{
 "cells": [
  {
   "cell_type": "code",
   "execution_count": null,
   "metadata": {},
   "outputs": [],
   "source": [
    "import pandas as pd\n",
    "import seaborn as sns\n",
    "from glob import glob\n",
    "sns.set_theme(style=\"ticks\", font=\"Linux Biolinum O\", font_scale=1.2)\n",
    "\n",
    "frames = [pd.read_csv(data) for data in glob('../data/operation-*.txt')]\n",
    "data = pd.concat(frames, ignore_index=True)\n",
    "data = data[data['comment'].isna()]\n",
    "data = data[(data['inner_k'] == 32) & (data['inner_n'] == 80) & (data['outer_k'] == 8) & (data['outer_n'] == 10)]\n",
    "\n",
    "def protocol_operation(row):\n",
    "    return f'{row[\"protocol\"]} - {row[\"operation\"]}'\n",
    "\n",
    "data[\"protocol - operation\"] = data.apply(protocol_operation, axis=1)\n",
    "data"
   ]
  },
  {
   "cell_type": "code",
   "execution_count": null,
   "metadata": {},
   "outputs": [],
   "source": [
    "hue_order = [\"entropy - put\", \"kademlia - put\", \"entropy - get\", \"kademlia - get\"]\n",
    "entropy_palette = sns.cubehelix_palette(n_colors=4)\n",
    "kademlia_palette = sns.cubehelix_palette(start=.8, rot=-.5, n_colors=4)\n",
    "palette = [c for p in zip(entropy_palette, kademlia_palette) for c in p][:4]\n",
    "\n",
    "sns.relplot(data=data[data['operation'] != 'repair'],\n",
    "    kind=\"line\",\n",
    "    x=\"num_concurrent\", y=\"latency\", hue=\"protocol - operation\",\n",
    "    hue_order=hue_order, palette=palette,\n",
    "    height=2.56, aspect=2.) \\\n",
    ".set_xlabels(\"Concurrent Operation\") \\\n",
    ".set_ylabels(\"Latency (s)\") \\\n",
    ".savefig(\"scalable-put-get.pdf\")"
   ]
  },
  {
   "cell_type": "code",
   "execution_count": null,
   "metadata": {},
   "outputs": [],
   "source": [
    "hue_order = [\"entropy - repair\", \"kademlia - repair\"]\n",
    "entropy_palette = sns.cubehelix_palette(n_colors=4)\n",
    "kademlia_palette = sns.cubehelix_palette(start=.8, rot=-.5, n_colors=4)\n",
    "palette = [c for p in zip(entropy_palette, kademlia_palette) for c in p][4:6]\n",
    "\n",
    "sns.relplot(data=data[data['operation'] == 'repair'],\n",
    "    kind=\"line\",\n",
    "    x=\"num_concurrent\", y=\"latency\", hue=\"protocol - operation\",\n",
    "    hue_order=hue_order, palette=palette,\n",
    "    height=2.56, aspect=2.) \\\n",
    ".set_xlabels(\"Concurrent Operation\") \\\n",
    ".set_ylabels(\"Latency (s)\") \\\n",
    ".savefig(\"scalable-repair.pdf\")"
   ]
  }
 ],
 "metadata": {
  "kernelspec": {
   "display_name": "Python 3",
   "language": "python",
   "name": "python3"
  },
  "language_info": {
   "codemirror_mode": {
    "name": "ipython",
    "version": 3
   },
   "file_extension": ".py",
   "mimetype": "text/x-python",
   "name": "python",
   "nbconvert_exporter": "python",
   "pygments_lexer": "ipython3",
   "version": "3.10.12"
  },
  "orig_nbformat": 4
 },
 "nbformat": 4,
 "nbformat_minor": 2
}
