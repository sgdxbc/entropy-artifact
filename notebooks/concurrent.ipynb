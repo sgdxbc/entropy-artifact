{
 "cells": [
  {
   "cell_type": "code",
   "execution_count": null,
   "metadata": {},
   "outputs": [],
   "source": [
    "import pandas as pd\n",
    "import seaborn as sns\n",
    "from glob import glob\n",
    "sns.set_theme(style=\"ticks\", font=\"Linux Biolinum O\", font_scale=1.2)\n",
    "\n",
    "frames = [pd.read_csv(data) for data in glob('../data/operation-*.txt')]\n",
    "for frame in frames:\n",
    "    if 'num_participant' not in frame:\n",
    "        frame['num_participant'] = 10000\n",
    "data = pd.concat(frames, ignore_index=True)\n",
    "data = data[data['comment'].isna()]\n",
    "\n",
    "data = data[data['num_participant'] == 10000]\n",
    "data = data[(data['inner_k'] == 32) & (data['inner_n'] == 80) & (data['outer_k'] == 8) & (data['outer_n'] == 10)]\n",
    "\n",
    "def protocol_operation(row):\n",
    "    return f'{row[\"protocol\"].capitalize()} - {row[\"operation\"]}'\n",
    "\n",
    "data[\"Protocol - Operation\"] = data.apply(protocol_operation, axis=1)\n",
    "data"
   ]
  },
  {
   "cell_type": "code",
   "execution_count": null,
   "metadata": {},
   "outputs": [],
   "source": [
    "hue_order = [\"Entropy - put\", \"Kademlia - put\", \"Entropy - get\", \"Kademlia - get\"]\n",
    "entropy_palette = sns.cubehelix_palette(rot=0., light=0.75, n_colors=4)\n",
    "kademlia_palette = sns.cubehelix_palette(start=2.5, rot=0., dark=0.25, n_colors=4)\n",
    "palette = [c for p in zip(entropy_palette, reversed(kademlia_palette)) for c in p]\n",
    "\n",
    "sns.relplot(data=data[data['operation'] != 'repair'],\n",
    "    kind=\"line\",\n",
    "    x=\"num_concurrent\", y=\"latency\", hue=\"Protocol - Operation\",\n",
    "    hue_order=hue_order, palette=palette[:4],\n",
    "    markers=['o'] * 4, dashes=False, style='Protocol - Operation',\n",
    "    height=2.56, aspect=2.) \\\n",
    ".set_xlabels(\"Concurrent Operation\") \\\n",
    ".set_ylabels(\"Latency (s)\") \\\n",
    ".set(ylim=[0, 25]) \\\n",
    ".savefig(\"../../graphs/concurrent-put-get.pdf\")"
   ]
  },
  {
   "cell_type": "code",
   "execution_count": null,
   "metadata": {},
   "outputs": [],
   "source": [
    "hue_order = [\"Entropy - repair\", \"Kademlia - repair\"]\n",
    "\n",
    "sns.relplot(data=data[data['operation'] == 'repair'],\n",
    "    kind=\"line\",\n",
    "    x=\"num_concurrent\", y=\"latency\", hue=\"Protocol - Operation\",\n",
    "    hue_order=hue_order, palette=palette[4:],\n",
    "    markers=['o'] * 2, dashes=False, style='Protocol - Operation',\n",
    "    height=2.56, aspect=2.) \\\n",
    ".set_xlabels(\"Concurrent Operation\") \\\n",
    ".set_ylabels(\"Latency (s)\") \\\n",
    ".set(ylim=[0, 3.99]) \\\n",
    ".savefig(\"../../graphs/concurrent-repair.pdf\")"
   ]
  }
 ],
 "metadata": {
  "kernelspec": {
   "display_name": "Python 3",
   "language": "python",
   "name": "python3"
  },
  "language_info": {
   "codemirror_mode": {
    "name": "ipython",
    "version": 3
   },
   "file_extension": ".py",
   "mimetype": "text/x-python",
   "name": "python",
   "nbconvert_exporter": "python",
   "pygments_lexer": "ipython3",
   "version": "3.8.10"
  },
  "orig_nbformat": 4
 },
 "nbformat": 4,
 "nbformat_minor": 2
}
