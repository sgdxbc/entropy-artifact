{
 "cells": [
  {
   "cell_type": "code",
   "execution_count": null,
   "metadata": {},
   "outputs": [],
   "source": [
    "import pandas as pd\n",
    "import seaborn as sns\n",
    "from glob import glob\n",
    "sns.set_theme(style=\"ticks\", font=\"Linux Biolinum O\", font_scale=1.2)\n",
    "\n",
    "frames = [pd.read_csv(data) for data in glob('../data/operation-*.txt')]\n",
    "data = pd.concat(frames, ignore_index=True)\n",
    "data = data[data['comment'].isna()]\n",
    "data = data[(data['num_concurrent'] == 1) | (data['operation'] == 'repair') & (data['num_concurrent'] == 2)]\n",
    "data[\"outer_coding\"] = list(zip(data[\"outer_n\"], data[\"outer_k\"]))\n",
    "data[\"inner_coding\"] = list(zip(data[\"inner_n\"], data[\"inner_k\"]))\n",
    "\n",
    "def protocol_operation(row):\n",
    "    return f'{row[\"protocol\"]} - {row[\"operation\"]}'\n",
    "\n",
    "data[\"protocol - operation\"] = data.apply(protocol_operation, axis=1)\n",
    "data"
   ]
  },
  {
   "cell_type": "code",
   "execution_count": null,
   "metadata": {},
   "outputs": [],
   "source": [
    "hue_order = [\"entropy - put\", \"kademlia - put\", \"entropy - get\", \"kademlia - get\", \"entropy - repair\", \"kademlia - repair\"]\n",
    "entropy_palette = sns.cubehelix_palette(n_colors=6)\n",
    "kademlia_palette = sns.cubehelix_palette(start=2., rot=0.4, n_colors=6)\n",
    "palette = [c for p in zip(entropy_palette, kademlia_palette) for c in p]\n",
    "\n",
    "ax = sns.catplot(data=data[data[\"inner_coding\"] == (80, 32)], \n",
    "    kind=\"bar\",\n",
    "    x=\"outer_coding\", y=\"latency\", hue=\"protocol - operation\",\n",
    "    order=[(5, 4), (10, 8), (15, 12)],\n",
    "    hue_order=hue_order, palette=palette,\n",
    "    # legend=False,\n",
    "    height=2.56, aspect=2.)\n",
    "# ax.add_legend(label_order = [\"entropy - put\", \"entropy - get\", \"entropy - repair\", \"kademlia - put\", \"kademlia - get\", \"kademlia - repair\"])\n",
    "ax \\\n",
    ".set_xlabels(\"Outer Code\") \\\n",
    ".set_ylabels(\"Latency (s)\") \\\n",
    ".savefig(\"operation-outer.pdf\")"
   ]
  },
  {
   "cell_type": "code",
   "execution_count": null,
   "metadata": {},
   "outputs": [],
   "source": [
    "sns.catplot(data=data[data[\"outer_coding\"] == (10, 8)], \n",
    "    kind=\"bar\",\n",
    "    x=\"inner_coding\", y=\"latency\", hue=\"protocol - operation\",\n",
    "    order=[(40, 16), (80, 32), (120, 48)],\n",
    "    hue_order=hue_order, palette=palette,\n",
    "    height=2.56, aspect=2.) \\\n",
    ".set_xlabels(\"Inner Code\") \\\n",
    ".set_ylabels(\"Latency (s)\") \\\n",
    ".savefig(\"operation-inner.pdf\")"
   ]
  }
 ],
 "metadata": {
  "kernelspec": {
   "display_name": "Python 3",
   "language": "python",
   "name": "python3"
  },
  "language_info": {
   "codemirror_mode": {
    "name": "ipython",
    "version": 3
   },
   "file_extension": ".py",
   "mimetype": "text/x-python",
   "name": "python",
   "nbconvert_exporter": "python",
   "pygments_lexer": "ipython3",
   "version": "3.10.12"
  },
  "orig_nbformat": 4
 },
 "nbformat": 4,
 "nbformat_minor": 2
}
