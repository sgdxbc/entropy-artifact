{
 "cells": [
  {
   "cell_type": "code",
   "execution_count": null,
   "metadata": {},
   "outputs": [],
   "source": [
    "import pandas as pd\n",
    "import seaborn as sns\n",
    "from glob import glob\n",
    "sns.set_theme(style=\"ticks\", font=\"Linux Biolinum O\", font_scale=1.2)\n",
    "\n",
    "frames = [pd.read_csv(data) for data in glob('../data/operation-*.txt')]\n",
    "for frame in frames:\n",
    "    if 'num_participant' not in frame:\n",
    "        frame['num_participant'] = 10000\n",
    "data = pd.concat(frames, ignore_index=True)\n",
    "data = data[data['comment'].isna()]\n",
    "\n",
    "data = data[(data['num_concurrent'] == 1) | (data['operation'] == 'repair') & (data['num_concurrent'] == 2)]\n",
    "data = data[data['num_participant'] == 10000]\n",
    "data[\"outer_coding\"] = list(zip(data[\"outer_n\"], data[\"outer_k\"]))\n",
    "data[\"inner_coding\"] = list(zip(data[\"inner_n\"], data[\"inner_k\"]))\n",
    "\n",
    "def protocol_operation(row):\n",
    "    return f'{row[\"protocol\"].capitalize()} - {row[\"operation\"]}'\n",
    "\n",
    "def protocol_inner_coding(row):\n",
    "    return f'{row[\"protocol\"].capitalize()} - ({int(row[\"inner_n\"])}, {int(row[\"inner_k\"])})'\n",
    "\n",
    "def protocol_outer_coding(row):\n",
    "    return f'{row[\"protocol\"].capitalize()} - ({int(row[\"outer_n\"])}, {int(row[\"outer_k\"])})'\n",
    "\n",
    "data[\"Protocol - Operation\"] = data.apply(protocol_operation, axis=1)\n",
    "data[\"Protocol - Inner Code\"] = data.apply(protocol_inner_coding, axis=1)\n",
    "data[\"Protocol - Outer Code\"] = data.apply(protocol_outer_coding, axis=1)\n",
    "data"
   ]
  },
  {
   "cell_type": "code",
   "execution_count": null,
   "metadata": {},
   "outputs": [],
   "source": [
    "entropy_palette = sns.cubehelix_palette(rot=0., light=0.75, n_colors=6)\n",
    "entropy_palette"
   ]
  },
  {
   "cell_type": "code",
   "execution_count": null,
   "metadata": {},
   "outputs": [],
   "source": [
    "kademlia_palette = sns.cubehelix_palette(start=2.5, rot=0., dark=0.25, n_colors=6)\n",
    "kademlia_palette"
   ]
  },
  {
   "cell_type": "code",
   "execution_count": null,
   "metadata": {},
   "outputs": [],
   "source": [
    "# hue_order = [\"entropy - put\", \"kademlia - put\", \"entropy - get\", \"kademlia - get\", \"entropy - repair\", \"kademlia - repair\"]\n",
    "hue_order = [f\"{p} - {c}\" for c in (\"(5, 4)\", \"(10, 8)\", \"(15, 12)\") for p in (\"Entropy\", \"Kademlia\")]\n",
    "palette = [c for p in zip(entropy_palette, reversed(kademlia_palette)) for c in p]\n",
    "\n",
    "ax = sns.catplot(data=data[data[\"inner_coding\"] == (80, 32)], \n",
    "    kind=\"bar\",\n",
    "    # x=\"outer_coding\", \n",
    "    x=\"operation\", \n",
    "    y=\"latency\", \n",
    "    # hue=\"protocol - operation\",\n",
    "    # order=[(5, 4), (10, 8), (15, 12)],\n",
    "    hue=\"Protocol - Outer Code\",\n",
    "    order=[\"put\", \"get\", \"repair\"],\n",
    "    hue_order=hue_order, palette=palette,\n",
    "    # legend=False,\n",
    "    height=2.56, aspect=2.)\n",
    "# ax.add_legend(label_order = [\"entropy - put\", \"entropy - get\", \"entropy - repair\", \"kademlia - put\", \"kademlia - get\", \"kademlia - repair\"])\n",
    "ax \\\n",
    ".set_xlabels(\"Outer Code\") \\\n",
    ".set_xlabels(\"Operation\") \\\n",
    ".set_ylabels(\"Latency (s)\") \\\n",
    ".savefig(\"../../graphs/operation-outer.pdf\")"
   ]
  },
  {
   "cell_type": "code",
   "execution_count": null,
   "metadata": {},
   "outputs": [],
   "source": [
    "hue_order = [f\"{p} - {c}\" for c in (\"(40, 16)\", \"(80, 32)\", \"(120, 48)\") for p in (\"Entropy\", \"Kademlia\")]\n",
    "\n",
    "sns.catplot(data=data[data[\"outer_coding\"] == (10, 8)], \n",
    "    kind=\"bar\",\n",
    "    x=\"operation\", y=\"latency\", \n",
    "    # hue=\"protocol - operation\",\n",
    "    # order=[(40, 16), (80, 32), (120, 48)],\n",
    "    hue=\"Protocol - Inner Code\",\n",
    "    order=[\"put\", \"get\", \"repair\"],\n",
    "    hue_order=hue_order, palette=palette,\n",
    "    height=2.56, aspect=2.) \\\n",
    ".set_xlabels(\"Inner Code\") \\\n",
    ".set_xlabels(\"Operation\") \\\n",
    ".set_ylabels(\"Latency (s)\") \\\n",
    ".savefig(\"../../graphs/operation-inner.pdf\")"
   ]
  }
 ],
 "metadata": {
  "kernelspec": {
   "display_name": "Python 3",
   "language": "python",
   "name": "python3"
  },
  "language_info": {
   "codemirror_mode": {
    "name": "ipython",
    "version": 3
   },
   "file_extension": ".py",
   "mimetype": "text/x-python",
   "name": "python",
   "nbconvert_exporter": "python",
   "pygments_lexer": "ipython3",
   "version": "3.10.12"
  },
  "orig_nbformat": 4
 },
 "nbformat": 4,
 "nbformat_minor": 2
}
